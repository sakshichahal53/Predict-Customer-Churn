{
 "cells": [
  {
   "cell_type": "markdown",
   "metadata": {},
   "source": [
    "# Building my first Deep Neural Network "
   ]
  },
  {
   "cell_type": "markdown",
   "metadata": {},
   "source": [
    "Our basic aim is to predict customer churn for a certain bank i.e. which customer is going to leave this bank service. Dataset is small(for learning purpose) and contains 10000 rows with 14 columns.The dataset can be observed from the csv file in the directory."
   ]
  },
  {
   "cell_type": "markdown",
   "metadata": {},
   "source": [
    "## Step 1: Data Pre-Processing"
   ]
  },
  {
   "cell_type": "code",
   "execution_count": 67,
   "metadata": {},
   "outputs": [],
   "source": [
    "import numpy as np\n",
    "import matplotlib.pyplot as plt\n",
    "import pandas as pd\n",
    "import seaborn as sns\n",
    "from IPython.display import HTML, display\n",
    "import tabulate"
   ]
  },
  {
   "cell_type": "code",
   "execution_count": 68,
   "metadata": {},
   "outputs": [
    {
     "data": {
      "text/html": [
       "<div>\n",
       "<style scoped>\n",
       "    .dataframe tbody tr th:only-of-type {\n",
       "        vertical-align: middle;\n",
       "    }\n",
       "\n",
       "    .dataframe tbody tr th {\n",
       "        vertical-align: top;\n",
       "    }\n",
       "\n",
       "    .dataframe thead th {\n",
       "        text-align: right;\n",
       "    }\n",
       "</style>\n",
       "<table border=\"1\" class=\"dataframe\">\n",
       "  <thead>\n",
       "    <tr style=\"text-align: right;\">\n",
       "      <th></th>\n",
       "      <th>RowNumber</th>\n",
       "      <th>CustomerId</th>\n",
       "      <th>Surname</th>\n",
       "      <th>CreditScore</th>\n",
       "      <th>Geography</th>\n",
       "      <th>Gender</th>\n",
       "      <th>Age</th>\n",
       "      <th>Tenure</th>\n",
       "      <th>Balance</th>\n",
       "      <th>NumOfProducts</th>\n",
       "      <th>HasCrCard</th>\n",
       "      <th>IsActiveMember</th>\n",
       "      <th>EstimatedSalary</th>\n",
       "      <th>Exited</th>\n",
       "    </tr>\n",
       "  </thead>\n",
       "  <tbody>\n",
       "    <tr>\n",
       "      <th>0</th>\n",
       "      <td>1</td>\n",
       "      <td>15634602</td>\n",
       "      <td>Hargrave</td>\n",
       "      <td>619</td>\n",
       "      <td>France</td>\n",
       "      <td>Female</td>\n",
       "      <td>42</td>\n",
       "      <td>2</td>\n",
       "      <td>0.00</td>\n",
       "      <td>1</td>\n",
       "      <td>1</td>\n",
       "      <td>1</td>\n",
       "      <td>101348.88</td>\n",
       "      <td>1</td>\n",
       "    </tr>\n",
       "    <tr>\n",
       "      <th>1</th>\n",
       "      <td>2</td>\n",
       "      <td>15647311</td>\n",
       "      <td>Hill</td>\n",
       "      <td>608</td>\n",
       "      <td>Spain</td>\n",
       "      <td>Female</td>\n",
       "      <td>41</td>\n",
       "      <td>1</td>\n",
       "      <td>83807.86</td>\n",
       "      <td>1</td>\n",
       "      <td>0</td>\n",
       "      <td>1</td>\n",
       "      <td>112542.58</td>\n",
       "      <td>0</td>\n",
       "    </tr>\n",
       "    <tr>\n",
       "      <th>2</th>\n",
       "      <td>3</td>\n",
       "      <td>15619304</td>\n",
       "      <td>Onio</td>\n",
       "      <td>502</td>\n",
       "      <td>France</td>\n",
       "      <td>Female</td>\n",
       "      <td>42</td>\n",
       "      <td>8</td>\n",
       "      <td>159660.80</td>\n",
       "      <td>3</td>\n",
       "      <td>1</td>\n",
       "      <td>0</td>\n",
       "      <td>113931.57</td>\n",
       "      <td>1</td>\n",
       "    </tr>\n",
       "    <tr>\n",
       "      <th>3</th>\n",
       "      <td>4</td>\n",
       "      <td>15701354</td>\n",
       "      <td>Boni</td>\n",
       "      <td>699</td>\n",
       "      <td>France</td>\n",
       "      <td>Female</td>\n",
       "      <td>39</td>\n",
       "      <td>1</td>\n",
       "      <td>0.00</td>\n",
       "      <td>2</td>\n",
       "      <td>0</td>\n",
       "      <td>0</td>\n",
       "      <td>93826.63</td>\n",
       "      <td>0</td>\n",
       "    </tr>\n",
       "    <tr>\n",
       "      <th>4</th>\n",
       "      <td>5</td>\n",
       "      <td>15737888</td>\n",
       "      <td>Mitchell</td>\n",
       "      <td>850</td>\n",
       "      <td>Spain</td>\n",
       "      <td>Female</td>\n",
       "      <td>43</td>\n",
       "      <td>2</td>\n",
       "      <td>125510.82</td>\n",
       "      <td>1</td>\n",
       "      <td>1</td>\n",
       "      <td>1</td>\n",
       "      <td>79084.10</td>\n",
       "      <td>0</td>\n",
       "    </tr>\n",
       "  </tbody>\n",
       "</table>\n",
       "</div>"
      ],
      "text/plain": [
       "   RowNumber  CustomerId   Surname  CreditScore Geography  Gender  Age  \\\n",
       "0          1    15634602  Hargrave          619    France  Female   42   \n",
       "1          2    15647311      Hill          608     Spain  Female   41   \n",
       "2          3    15619304      Onio          502    France  Female   42   \n",
       "3          4    15701354      Boni          699    France  Female   39   \n",
       "4          5    15737888  Mitchell          850     Spain  Female   43   \n",
       "\n",
       "   Tenure    Balance  NumOfProducts  HasCrCard  IsActiveMember  \\\n",
       "0       2       0.00              1          1               1   \n",
       "1       1   83807.86              1          0               1   \n",
       "2       8  159660.80              3          1               0   \n",
       "3       1       0.00              2          0               0   \n",
       "4       2  125510.82              1          1               1   \n",
       "\n",
       "   EstimatedSalary  Exited  \n",
       "0        101348.88       1  \n",
       "1        112542.58       0  \n",
       "2        113931.57       1  \n",
       "3         93826.63       0  \n",
       "4         79084.10       0  "
      ]
     },
     "execution_count": 68,
     "metadata": {},
     "output_type": "execute_result"
    }
   ],
   "source": [
    "dataset = pd.read_csv('./Churn_Modelling.csv')\n",
    "dataset.head()"
   ]
  },
  {
   "cell_type": "code",
   "execution_count": 69,
   "metadata": {},
   "outputs": [
    {
     "name": "stdout",
     "output_type": "stream",
     "text": [
      "<class 'pandas.core.frame.DataFrame'>\n",
      "RangeIndex: 10000 entries, 0 to 9999\n",
      "Data columns (total 14 columns):\n",
      "RowNumber          10000 non-null int64\n",
      "CustomerId         10000 non-null int64\n",
      "Surname            10000 non-null object\n",
      "CreditScore        10000 non-null int64\n",
      "Geography          10000 non-null object\n",
      "Gender             10000 non-null object\n",
      "Age                10000 non-null int64\n",
      "Tenure             10000 non-null int64\n",
      "Balance            10000 non-null float64\n",
      "NumOfProducts      10000 non-null int64\n",
      "HasCrCard          10000 non-null int64\n",
      "IsActiveMember     10000 non-null int64\n",
      "EstimatedSalary    10000 non-null float64\n",
      "Exited             10000 non-null int64\n",
      "dtypes: float64(2), int64(9), object(3)\n",
      "memory usage: 1.1+ MB\n"
     ]
    }
   ],
   "source": [
    "dataset.info()"
   ]
  },
  {
   "cell_type": "code",
   "execution_count": 70,
   "metadata": {},
   "outputs": [
    {
     "data": {
      "text/plain": [
       "['CreditScore',\n",
       " 'Geography',\n",
       " 'Gender',\n",
       " 'Age',\n",
       " 'Tenure',\n",
       " 'Balance',\n",
       " 'NumOfProducts',\n",
       " 'HasCrCard',\n",
       " 'IsActiveMember',\n",
       " 'EstimatedSalary']"
      ]
     },
     "execution_count": 70,
     "metadata": {},
     "output_type": "execute_result"
    }
   ],
   "source": [
    "cat_variables = [i for i in dataset.columns]\n",
    "cat_variables.remove(\"Exited\")\n",
    "cat_variables.remove(\"RowNumber\")\n",
    "cat_variables.remove(\"CustomerId\")\n",
    "cat_variables.remove(\"Surname\")\n",
    "\n",
    "Label = \"Exited\"\n",
    "\n",
    "cat_variables"
   ]
  },
  {
   "cell_type": "markdown",
   "metadata": {},
   "source": [
    "**Plotting box plot to anlayse the distribution of different numerical attributes**"
   ]
  },
  {
   "cell_type": "code",
   "execution_count": 71,
   "metadata": {
    "scrolled": true
   },
   "outputs": [
    {
     "data": {
      "image/png": "[encoded data removed]",
      "text/plain": [
       "<Figure size 576x576 with 1 Axes>"
      ]
     },
     "metadata": {
      "needs_background": "light"
     },
     "output_type": "display_data"
    },
    {
     "data": {
      "image/png": "[encoded data removed]",
      "text/plain": [
       "<Figure size 576x576 with 1 Axes>"
      ]
     },
     "metadata": {
      "needs_background": "light"
     },
     "output_type": "display_data"
    },
    {
     "data": {
      "image/png": "[encoded data removed]",
      "text/plain": [
       "<Figure size 576x576 with 1 Axes>"
      ]
     },
     "metadata": {
      "needs_background": "light"
     },
     "output_type": "display_data"
    },
    {
     "data": {
      "image/png": "[encoded data removed]",
      "text/plain": [
       "<Figure size 576x576 with 1 Axes>"
      ]
     },
     "metadata": {
      "needs_background": "light"
     },
     "output_type": "display_data"
    },
    {
     "data": {
      "image/png": "[encoded data removed]",
      "text/plain": [
       "<Figure size 576x576 with 1 Axes>"
      ]
     },
     "metadata": {
      "needs_background": "light"
     },
     "output_type": "display_data"
    },
    {
     "data": {
      "image/png": "[encoded data removed]",
      "text/plain": [
       "<Figure size 576x576 with 1 Axes>"
      ]
     },
     "metadata": {
      "needs_background": "light"
     },
     "output_type": "display_data"
    },
    {
     "data": {
      "image/png": "[encoded data removed]",
      "text/plain": [
       "<Figure size 576x576 with 1 Axes>"
      ]
     },
     "metadata": {
      "needs_background": "light"
     },
     "output_type": "display_data"
    },
    {
     "data": {
      "image/png": "[encoded data removed]",
      "text/plain": [
       "<Figure size 576x576 with 1 Axes>"
      ]
     },
     "metadata": {
      "needs_background": "light"
     },
     "output_type": "display_data"
    },
    {
     "data": {
      "image/png": "[encoded data removed]",
      "text/plain": [
       "<Figure size 576x576 with 1 Axes>"
      ]
     },
     "metadata": {
      "needs_background": "light"
     },
     "output_type": "display_data"
    },
    {
     "data": {
      "image/png": "[encoded data removed]",
      "text/plain": [
       "<Figure size 576x576 with 1 Axes>"
      ]
     },
     "metadata": {
      "needs_background": "light"
     },
     "output_type": "display_data"
    }
   ],
   "source": [
    "for i in cat_variables:\n",
    "    plt.figure(figsize=(8,8))\n",
    "    sns.boxplot(x=Label,y=i,data=dataset)\n",
    "    plt.show()"
   ]
  },
  {
   "cell_type": "markdown",
   "metadata": {},
   "source": [
    "**Dividing the dataset to training and test variables**"
   ]
  },
  {
   "cell_type": "code",
   "execution_count": 72,
   "metadata": {},
   "outputs": [],
   "source": [
    "X=dataset.iloc[:,3:13]\n",
    "y=dataset.iloc[:,13]"
   ]
  },
  {
   "cell_type": "markdown",
   "metadata": {},
   "source": [
    "**LabelEncoder automatically converts into labeled classes from 0 to classes-1**"
   ]
  },
  {
   "cell_type": "code",
   "execution_count": 73,
   "metadata": {},
   "outputs": [
    {
     "data": {
      "text/html": [
       "<div>\n",
       "<style scoped>\n",
       "    .dataframe tbody tr th:only-of-type {\n",
       "        vertical-align: middle;\n",
       "    }\n",
       "\n",
       "    .dataframe tbody tr th {\n",
       "        vertical-align: top;\n",
       "    }\n",
       "\n",
       "    .dataframe thead th {\n",
       "        text-align: right;\n",
       "    }\n",
       "</style>\n",
       "<table border=\"1\" class=\"dataframe\">\n",
       "  <thead>\n",
       "    <tr style=\"text-align: right;\">\n",
       "      <th></th>\n",
       "      <th>CreditScore</th>\n",
       "      <th>Geography</th>\n",
       "      <th>Gender</th>\n",
       "      <th>Age</th>\n",
       "      <th>Tenure</th>\n",
       "      <th>Balance</th>\n",
       "      <th>NumOfProducts</th>\n",
       "      <th>HasCrCard</th>\n",
       "      <th>IsActiveMember</th>\n",
       "      <th>EstimatedSalary</th>\n",
       "    </tr>\n",
       "  </thead>\n",
       "  <tbody>\n",
       "    <tr>\n",
       "      <th>0</th>\n",
       "      <td>619</td>\n",
       "      <td>0</td>\n",
       "      <td>0</td>\n",
       "      <td>42</td>\n",
       "      <td>2</td>\n",
       "      <td>0.00</td>\n",
       "      <td>1</td>\n",
       "      <td>1</td>\n",
       "      <td>1</td>\n",
       "      <td>101348.88</td>\n",
       "    </tr>\n",
       "    <tr>\n",
       "      <th>1</th>\n",
       "      <td>608</td>\n",
       "      <td>2</td>\n",
       "      <td>0</td>\n",
       "      <td>41</td>\n",
       "      <td>1</td>\n",
       "      <td>83807.86</td>\n",
       "      <td>1</td>\n",
       "      <td>0</td>\n",
       "      <td>1</td>\n",
       "      <td>112542.58</td>\n",
       "    </tr>\n",
       "    <tr>\n",
       "      <th>2</th>\n",
       "      <td>502</td>\n",
       "      <td>0</td>\n",
       "      <td>0</td>\n",
       "      <td>42</td>\n",
       "      <td>8</td>\n",
       "      <td>159660.80</td>\n",
       "      <td>3</td>\n",
       "      <td>1</td>\n",
       "      <td>0</td>\n",
       "      <td>113931.57</td>\n",
       "    </tr>\n",
       "    <tr>\n",
       "      <th>3</th>\n",
       "      <td>699</td>\n",
       "      <td>0</td>\n",
       "      <td>0</td>\n",
       "      <td>39</td>\n",
       "      <td>1</td>\n",
       "      <td>0.00</td>\n",
       "      <td>2</td>\n",
       "      <td>0</td>\n",
       "      <td>0</td>\n",
       "      <td>93826.63</td>\n",
       "    </tr>\n",
       "    <tr>\n",
       "      <th>4</th>\n",
       "      <td>850</td>\n",
       "      <td>2</td>\n",
       "      <td>0</td>\n",
       "      <td>43</td>\n",
       "      <td>2</td>\n",
       "      <td>125510.82</td>\n",
       "      <td>1</td>\n",
       "      <td>1</td>\n",
       "      <td>1</td>\n",
       "      <td>79084.10</td>\n",
       "    </tr>\n",
       "  </tbody>\n",
       "</table>\n",
       "</div>"
      ],
      "text/plain": [
       "   CreditScore  Geography  Gender  Age  Tenure    Balance  NumOfProducts  \\\n",
       "0          619          0       0   42       2       0.00              1   \n",
       "1          608          2       0   41       1   83807.86              1   \n",
       "2          502          0       0   42       8  159660.80              3   \n",
       "3          699          0       0   39       1       0.00              2   \n",
       "4          850          2       0   43       2  125510.82              1   \n",
       "\n",
       "   HasCrCard  IsActiveMember  EstimatedSalary  \n",
       "0          1               1        101348.88  \n",
       "1          0               1        112542.58  \n",
       "2          1               0        113931.57  \n",
       "3          0               0         93826.63  \n",
       "4          1               1         79084.10  "
      ]
     },
     "execution_count": 73,
     "metadata": {},
     "output_type": "execute_result"
    }
   ],
   "source": [
    "from sklearn.preprocessing import LabelEncoder, OneHotEncoder \n",
    "## lebelencoder fro geography and gender\n",
    "labelencoder_X1=LabelEncoder()\n",
    "labelencoder_X2=LabelEncoder()\n",
    "X.iloc[:, 1]=labelencoder_X1.fit_transform(X.iloc[:, 1])\n",
    "X.iloc[:, 2]=labelencoder_X2.fit_transform(X.iloc[:, 2])\n",
    "X.head()"
   ]
  },
  {
   "cell_type": "markdown",
   "metadata": {},
   "source": [
    "The problem is that with label encoding, the categories now have natural ordered relationships. The computer does this because it’s programmed to treat higher numbers as higher numbers; it will naturally give the higher numbers higher weights. \n",
    "Label encoding has introduced new problem in our data. LabelEncoder has replaced France with 0, Germany 1 and Spain 2 but Germany is not higher than France and France is not smaller than Spain so we need to create a dummy variable for Country. **Hence OneHotEncoder is used after LabelEncoding**"
   ]
  },
  {
   "cell_type": "code",
   "execution_count": 74,
   "metadata": {},
   "outputs": [
    {
     "name": "stderr",
     "output_type": "stream",
     "text": [
      "/home/sakshi/.local/lib/python3.6/site-packages/sklearn/preprocessing/_encoders.py:371: FutureWarning: The handling of integer data will change in version 0.22. Currently, the categories are determined based on the range [0, max(values)], while in the future they will be determined based on the unique values.\n",
      "If you want the future behaviour and silence this warning, you can specify \"categories='auto'\".\n",
      "In case you used a LabelEncoder before this OneHotEncoder to convert the categories to integers, then you can now use the OneHotEncoder directly.\n",
      "  warnings.warn(msg, FutureWarning)\n",
      "/home/sakshi/.local/lib/python3.6/site-packages/sklearn/preprocessing/_encoders.py:392: DeprecationWarning: The 'categorical_features' keyword is deprecated in version 0.20 and will be removed in 0.22. You can use the ColumnTransformer instead.\n",
      "  \"use the ColumnTransformer instead.\", DeprecationWarning)\n"
     ]
    },
    {
     "data": {
      "text/html": [
       "<table>\n",
       "<tbody>\n",
       "<tr><td style=\"text-align: right;\">0</td><td style=\"text-align: right;\">0</td><td style=\"text-align: right;\">619</td><td style=\"text-align: right;\">0</td><td style=\"text-align: right;\">42</td><td style=\"text-align: right;\">2</td><td style=\"text-align: right;\">     0  </td><td style=\"text-align: right;\">1</td><td style=\"text-align: right;\">1</td><td style=\"text-align: right;\">1</td><td style=\"text-align: right;\">101349  </td></tr>\n",
       "<tr><td style=\"text-align: right;\">0</td><td style=\"text-align: right;\">1</td><td style=\"text-align: right;\">608</td><td style=\"text-align: right;\">0</td><td style=\"text-align: right;\">41</td><td style=\"text-align: right;\">1</td><td style=\"text-align: right;\"> 83807.9</td><td style=\"text-align: right;\">1</td><td style=\"text-align: right;\">0</td><td style=\"text-align: right;\">1</td><td style=\"text-align: right;\">112543  </td></tr>\n",
       "<tr><td style=\"text-align: right;\">0</td><td style=\"text-align: right;\">0</td><td style=\"text-align: right;\">502</td><td style=\"text-align: right;\">0</td><td style=\"text-align: right;\">42</td><td style=\"text-align: right;\">8</td><td style=\"text-align: right;\">159661  </td><td style=\"text-align: right;\">3</td><td style=\"text-align: right;\">1</td><td style=\"text-align: right;\">0</td><td style=\"text-align: right;\">113932  </td></tr>\n",
       "<tr><td style=\"text-align: right;\">0</td><td style=\"text-align: right;\">0</td><td style=\"text-align: right;\">699</td><td style=\"text-align: right;\">0</td><td style=\"text-align: right;\">39</td><td style=\"text-align: right;\">1</td><td style=\"text-align: right;\">     0  </td><td style=\"text-align: right;\">2</td><td style=\"text-align: right;\">0</td><td style=\"text-align: right;\">0</td><td style=\"text-align: right;\"> 93826.6</td></tr>\n",
       "<tr><td style=\"text-align: right;\">0</td><td style=\"text-align: right;\">1</td><td style=\"text-align: right;\">850</td><td style=\"text-align: right;\">0</td><td style=\"text-align: right;\">43</td><td style=\"text-align: right;\">2</td><td style=\"text-align: right;\">125511  </td><td style=\"text-align: right;\">1</td><td style=\"text-align: right;\">1</td><td style=\"text-align: right;\">1</td><td style=\"text-align: right;\"> 79084.1</td></tr>\n",
       "</tbody>\n",
       "</table>"
      ],
      "text/plain": [
       "<IPython.core.display.HTML object>"
      ]
     },
     "metadata": {},
     "output_type": "display_data"
    }
   ],
   "source": [
    "onehotencoder = OneHotEncoder(categorical_features = [1])\n",
    "X = onehotencoder.fit_transform(X).toarray()\n",
    "X = X[:, 1:]\n",
    "\n",
    "## used for displaying arrays\n",
    "dd=X[:5,:]\n",
    "display(HTML(tabulate.tabulate(dd, tablefmt='html')))"
   ]
  },
  {
   "cell_type": "markdown",
   "metadata": {},
   "source": [
    "## Step 2 : Splitting the data into 80:20 Train:Test for predictions"
   ]
  },
  {
   "cell_type": "code",
   "execution_count": 75,
   "metadata": {},
   "outputs": [],
   "source": [
    "from sklearn.model_selection import train_test_split    ##training our data\n",
    "X_train, X_test, y_train, y_test=train_test_split(X,y,test_size=0.2)\n"
   ]
  },
  {
   "cell_type": "code",
   "execution_count": 34,
   "metadata": {},
   "outputs": [
    {
     "data": {
      "text/html": [
       "<table>\n",
       "<tbody>\n",
       "<tr><td style=\"text-align: right;\">-0.576388</td><td style=\"text-align: right;\">-0.576003</td><td style=\"text-align: right;\"> 0.296173</td><td style=\"text-align: right;\"> 0.905448</td><td style=\"text-align: right;\"> 0.857417</td><td style=\"text-align: right;\"> 1.03498 </td><td style=\"text-align: right;\">-1.2286  </td><td style=\"text-align: right;\"> 0.810966</td><td style=\"text-align: right;\">0.644731</td><td style=\"text-align: right;\">-1.02558 </td><td style=\"text-align: right;\">-1.33305 </td></tr>\n",
       "<tr><td style=\"text-align: right;\"> 1.73494 </td><td style=\"text-align: right;\">-0.576003</td><td style=\"text-align: right;\">-0.550231</td><td style=\"text-align: right;\">-1.10443 </td><td style=\"text-align: right;\">-0.378996</td><td style=\"text-align: right;\"> 1.03498 </td><td style=\"text-align: right;\"> 0.868591</td><td style=\"text-align: right;\">-0.909917</td><td style=\"text-align: right;\">0.644731</td><td style=\"text-align: right;\"> 0.975061</td><td style=\"text-align: right;\"> 1.60741 </td></tr>\n",
       "<tr><td style=\"text-align: right;\">-0.576388</td><td style=\"text-align: right;\">-0.576003</td><td style=\"text-align: right;\">-0.312825</td><td style=\"text-align: right;\"> 0.905448</td><td style=\"text-align: right;\">-1.04476 </td><td style=\"text-align: right;\"> 1.03498 </td><td style=\"text-align: right;\">-1.2286  </td><td style=\"text-align: right;\"> 0.810966</td><td style=\"text-align: right;\">0.644731</td><td style=\"text-align: right;\"> 0.975061</td><td style=\"text-align: right;\"> 1.72983 </td></tr>\n",
       "<tr><td style=\"text-align: right;\"> 1.73494 </td><td style=\"text-align: right;\">-0.576003</td><td style=\"text-align: right;\">-1.32438 </td><td style=\"text-align: right;\">-1.10443 </td><td style=\"text-align: right;\">-0.188779</td><td style=\"text-align: right;\">-0.696625</td><td style=\"text-align: right;\"> 0.291452</td><td style=\"text-align: right;\">-0.909917</td><td style=\"text-align: right;\">0.644731</td><td style=\"text-align: right;\"> 0.975061</td><td style=\"text-align: right;\"> 0.501624</td></tr>\n",
       "<tr><td style=\"text-align: right;\">-0.576388</td><td style=\"text-align: right;\"> 1.7361  </td><td style=\"text-align: right;\">-0.405723</td><td style=\"text-align: right;\">-1.10443 </td><td style=\"text-align: right;\">-0.188779</td><td style=\"text-align: right;\">-0.350304</td><td style=\"text-align: right;\">-1.2286  </td><td style=\"text-align: right;\"> 0.810966</td><td style=\"text-align: right;\">0.644731</td><td style=\"text-align: right;\">-1.02558 </td><td style=\"text-align: right;\"> 0.442447</td></tr>\n",
       "</tbody>\n",
       "</table>"
      ],
      "text/plain": [
       "<IPython.core.display.HTML object>"
      ]
     },
     "metadata": {},
     "output_type": "display_data"
    }
   ],
   "source": [
    "from sklearn.preprocessing import StandardScaler       ##scaling our data\n",
    "sc = StandardScaler()\n",
    "X_train=sc.fit_transform(X_train)\n",
    "X_test=sc.fit_transform(X_test)\n",
    "\n",
    "dd=X_train[:5,:]\n",
    "display(HTML(tabulate.tabulate(dd, tablefmt='html')))\n"
   ]
  },
  {
   "cell_type": "markdown",
   "metadata": {},
   "source": [
    "## Step 3: Building our Deep Neural Network"
   ]
  },
  {
   "cell_type": "code",
   "execution_count": 45,
   "metadata": {
    "scrolled": true
   },
   "outputs": [
    {
     "name": "stderr",
     "output_type": "stream",
     "text": [
      "/usr/local/lib/python3.6/dist-packages/ipykernel_launcher.py:13: UserWarning: Update your `Dense` call to the Keras 2 API: `Dense(activation=\"relu\", input_dim=11, units=6, kernel_initializer=\"uniform\")`\n",
      "  del sys.path[0]\n",
      "/usr/local/lib/python3.6/dist-packages/ipykernel_launcher.py:16: UserWarning: Update your `Dense` call to the Keras 2 API: `Dense(activation=\"relu\", units=6, kernel_initializer=\"uniform\")`\n",
      "  app.launch_new_instance()\n",
      "/usr/local/lib/python3.6/dist-packages/ipykernel_launcher.py:19: UserWarning: Update your `Dense` call to the Keras 2 API: `Dense(activation=\"sigmoid\", units=1, kernel_initializer=\"uniform\")`\n"
     ]
    }
   ],
   "source": [
    "##start making neural network\n",
    "import tensorflow as tf\n",
    "import keras\n",
    "from keras.models import Sequential\n",
    "from keras.layers.core import Dense\n",
    "## (i) number of hidden layers equals one;\n",
    "## (ii) the number of neurons in that layer is the mean of the neurons in the input and output layers. \n",
    "\n",
    "##initializing the neural network\n",
    "classifier=Sequential()\n",
    "\n",
    "# Adding the input layer and the first hidden layer\n",
    "classifier.add(Dense(output_dim = 6, init = 'uniform', activation = 'relu', input_dim = 11))\n",
    "\n",
    "# Adding the second hidden layer\n",
    "classifier.add(Dense(output_dim = 6, init = 'uniform', activation = 'relu'))\n",
    "\n",
    "# Adding the output layer\n",
    "classifier.add(Dense(output_dim = 1, init = 'uniform', activation = 'sigmoid'))\n"
   ]
  },
  {
   "cell_type": "markdown",
   "metadata": {},
   "source": [
    "## Step 4: Fitting model and calculating Accuracy"
   ]
  },
  {
   "cell_type": "code",
   "execution_count": 46,
   "metadata": {},
   "outputs": [],
   "source": [
    "##compiling our nerual network\n",
    "classifier.compile(optimizer='Adam',loss='binary_crossentropy',metrics=['accuracy'])"
   ]
  },
  {
   "cell_type": "code",
   "execution_count": 47,
   "metadata": {},
   "outputs": [
    {
     "name": "stdout",
     "output_type": "stream",
     "text": [
      "WARNING:tensorflow:From /home/sakshi/.local/lib/python3.6/site-packages/tensorflow/python/ops/math_ops.py:3066: to_int32 (from tensorflow.python.ops.math_ops) is deprecated and will be removed in a future version.\n",
      "Instructions for updating:\n",
      "Use tf.cast instead.\n"
     ]
    },
    {
     "name": "stderr",
     "output_type": "stream",
     "text": [
      "/usr/local/lib/python3.6/dist-packages/ipykernel_launcher.py:2: UserWarning: The `nb_epoch` argument in `fit` has been renamed `epochs`.\n",
      "  \n"
     ]
    },
    {
     "name": "stdout",
     "output_type": "stream",
     "text": [
      "Epoch 1/100\n",
      "8000/8000 [==============================] - 1s 158us/step - loss: 0.4843 - acc: 0.7977\n",
      "Epoch 2/100\n",
      "8000/8000 [==============================] - 1s 119us/step - loss: 0.4191 - acc: 0.8227\n",
      "Epoch 3/100\n",
      "8000/8000 [==============================] - 1s 116us/step - loss: 0.4124 - acc: 0.8282\n",
      "Epoch 4/100\n",
      "8000/8000 [==============================] - 1s 116us/step - loss: 0.4086 - acc: 0.8294\n",
      "Epoch 5/100\n",
      "8000/8000 [==============================] - 1s 116us/step - loss: 0.4058 - acc: 0.8319\n",
      "Epoch 6/100\n",
      "8000/8000 [==============================] - 1s 114us/step - loss: 0.4037 - acc: 0.8335\n",
      "Epoch 7/100\n",
      "8000/8000 [==============================] - 1s 109us/step - loss: 0.4027 - acc: 0.8330\n",
      "Epoch 8/100\n",
      "8000/8000 [==============================] - 1s 111us/step - loss: 0.4007 - acc: 0.8357\n",
      "Epoch 9/100\n",
      "8000/8000 [==============================] - 1s 117us/step - loss: 0.3992 - acc: 0.8336\n",
      "Epoch 10/100\n",
      "8000/8000 [==============================] - 1s 117us/step - loss: 0.3978 - acc: 0.8357\n",
      "Epoch 11/100\n",
      "8000/8000 [==============================] - 1s 119us/step - loss: 0.3971 - acc: 0.8370\n",
      "Epoch 12/100\n",
      "8000/8000 [==============================] - 1s 113us/step - loss: 0.3958 - acc: 0.8377\n",
      "Epoch 13/100\n",
      "8000/8000 [==============================] - 1s 109us/step - loss: 0.3948 - acc: 0.8359\n",
      "Epoch 14/100\n",
      "8000/8000 [==============================] - 1s 125us/step - loss: 0.3938 - acc: 0.8379\n",
      "Epoch 15/100\n",
      "8000/8000 [==============================] - 1s 111us/step - loss: 0.3933 - acc: 0.8376\n",
      "Epoch 16/100\n",
      "8000/8000 [==============================] - 1s 109us/step - loss: 0.3925 - acc: 0.8390\n",
      "Epoch 17/100\n",
      "8000/8000 [==============================] - 1s 113us/step - loss: 0.3917 - acc: 0.8384\n",
      "Epoch 18/100\n",
      "8000/8000 [==============================] - 1s 115us/step - loss: 0.3915 - acc: 0.8375\n",
      "Epoch 19/100\n",
      "8000/8000 [==============================] - 1s 116us/step - loss: 0.3915 - acc: 0.8357\n",
      "Epoch 20/100\n",
      "8000/8000 [==============================] - 1s 115us/step - loss: 0.3899 - acc: 0.8375\n",
      "Epoch 21/100\n",
      "8000/8000 [==============================] - 1s 116us/step - loss: 0.3903 - acc: 0.8389\n",
      "Epoch 22/100\n",
      "8000/8000 [==============================] - 1s 117us/step - loss: 0.3899 - acc: 0.8381\n",
      "Epoch 23/100\n",
      "8000/8000 [==============================] - 1s 116us/step - loss: 0.3900 - acc: 0.8387\n",
      "Epoch 24/100\n",
      "8000/8000 [==============================] - 1s 113us/step - loss: 0.3888 - acc: 0.8399\n",
      "Epoch 25/100\n",
      "8000/8000 [==============================] - 1s 111us/step - loss: 0.3890 - acc: 0.8375\n",
      "Epoch 26/100\n",
      "8000/8000 [==============================] - 1s 112us/step - loss: 0.3881 - acc: 0.8395\n",
      "Epoch 27/100\n",
      "8000/8000 [==============================] - 1s 109us/step - loss: 0.3886 - acc: 0.8414\n",
      "Epoch 28/100\n",
      "8000/8000 [==============================] - 1s 108us/step - loss: 0.3880 - acc: 0.8420\n",
      "Epoch 29/100\n",
      "8000/8000 [==============================] - 1s 111us/step - loss: 0.3891 - acc: 0.8405\n",
      "Epoch 30/100\n",
      "8000/8000 [==============================] - 1s 113us/step - loss: 0.3884 - acc: 0.8385\n",
      "Epoch 31/100\n",
      "8000/8000 [==============================] - 1s 110us/step - loss: 0.3877 - acc: 0.8412\n",
      "Epoch 32/100\n",
      "8000/8000 [==============================] - 1s 113us/step - loss: 0.3882 - acc: 0.8374\n",
      "Epoch 33/100\n",
      "8000/8000 [==============================] - 1s 111us/step - loss: 0.3874 - acc: 0.8407\n",
      "Epoch 34/100\n",
      "8000/8000 [==============================] - 1s 108us/step - loss: 0.3874 - acc: 0.8394\n",
      "Epoch 35/100\n",
      "8000/8000 [==============================] - 1s 110us/step - loss: 0.3875 - acc: 0.8404\n",
      "Epoch 36/100\n",
      "8000/8000 [==============================] - 1s 111us/step - loss: 0.3871 - acc: 0.8389\n",
      "Epoch 37/100\n",
      "8000/8000 [==============================] - 1s 109us/step - loss: 0.3866 - acc: 0.8410\n",
      "Epoch 38/100\n",
      "8000/8000 [==============================] - 1s 110us/step - loss: 0.3864 - acc: 0.8421\n",
      "Epoch 39/100\n",
      "8000/8000 [==============================] - 1s 110us/step - loss: 0.3870 - acc: 0.8409\n",
      "Epoch 40/100\n",
      "8000/8000 [==============================] - 1s 109us/step - loss: 0.3864 - acc: 0.8407\n",
      "Epoch 41/100\n",
      "8000/8000 [==============================] - 1s 113us/step - loss: 0.3864 - acc: 0.8401\n",
      "Epoch 42/100\n",
      "8000/8000 [==============================] - 1s 112us/step - loss: 0.3855 - acc: 0.8401\n",
      "Epoch 43/100\n",
      "8000/8000 [==============================] - 1s 110us/step - loss: 0.3852 - acc: 0.8409\n",
      "Epoch 44/100\n",
      "8000/8000 [==============================] - 1s 110us/step - loss: 0.3854 - acc: 0.8400\n",
      "Epoch 45/100\n",
      "8000/8000 [==============================] - 1s 116us/step - loss: 0.3850 - acc: 0.8424\n",
      "Epoch 46/100\n",
      "8000/8000 [==============================] - 1s 111us/step - loss: 0.3847 - acc: 0.8414\n",
      "Epoch 47/100\n",
      "8000/8000 [==============================] - 1s 112us/step - loss: 0.3837 - acc: 0.8412\n",
      "Epoch 48/100\n",
      "8000/8000 [==============================] - 1s 113us/step - loss: 0.3830 - acc: 0.8410\n",
      "Epoch 49/100\n",
      "8000/8000 [==============================] - 1s 108us/step - loss: 0.3836 - acc: 0.8400\n",
      "Epoch 50/100\n",
      "8000/8000 [==============================] - 1s 107us/step - loss: 0.3812 - acc: 0.8407\n",
      "Epoch 51/100\n",
      "8000/8000 [==============================] - 1s 106us/step - loss: 0.3812 - acc: 0.8406\n",
      "Epoch 52/100\n",
      "8000/8000 [==============================] - 1s 125us/step - loss: 0.3798 - acc: 0.8419\n",
      "Epoch 53/100\n",
      "8000/8000 [==============================] - 1s 132us/step - loss: 0.3788 - acc: 0.8412\n",
      "Epoch 54/100\n",
      "8000/8000 [==============================] - 1s 119us/step - loss: 0.3763 - acc: 0.8409\n",
      "Epoch 55/100\n",
      "8000/8000 [==============================] - 1s 123us/step - loss: 0.3732 - acc: 0.8415\n",
      "Epoch 56/100\n",
      "8000/8000 [==============================] - 1s 123us/step - loss: 0.3697 - acc: 0.8399\n",
      "Epoch 57/100\n",
      "8000/8000 [==============================] - 1s 125us/step - loss: 0.3650 - acc: 0.8419\n",
      "Epoch 58/100\n",
      "8000/8000 [==============================] - 1s 128us/step - loss: 0.3583 - acc: 0.8486\n",
      "Epoch 59/100\n",
      "8000/8000 [==============================] - 1s 130us/step - loss: 0.3541 - acc: 0.8554\n",
      "Epoch 60/100\n",
      "8000/8000 [==============================] - 1s 128us/step - loss: 0.3507 - acc: 0.8581\n",
      "Epoch 61/100\n",
      "8000/8000 [==============================] - 1s 129us/step - loss: 0.3488 - acc: 0.8609\n",
      "Epoch 62/100\n",
      "8000/8000 [==============================] - 1s 124us/step - loss: 0.3469 - acc: 0.8611\n",
      "Epoch 63/100\n",
      "8000/8000 [==============================] - 1s 126us/step - loss: 0.3459 - acc: 0.8629\n",
      "Epoch 64/100\n",
      "8000/8000 [==============================] - 1s 123us/step - loss: 0.3452 - acc: 0.8630\n",
      "Epoch 65/100\n",
      "8000/8000 [==============================] - 1s 127us/step - loss: 0.3444 - acc: 0.8619\n",
      "Epoch 66/100\n",
      "8000/8000 [==============================] - 1s 125us/step - loss: 0.3437 - acc: 0.8635\n",
      "Epoch 67/100\n",
      "8000/8000 [==============================] - 1s 132us/step - loss: 0.3428 - acc: 0.8631\n",
      "Epoch 68/100\n",
      "8000/8000 [==============================] - 1s 128us/step - loss: 0.3416 - acc: 0.8636\n",
      "Epoch 69/100\n",
      "8000/8000 [==============================] - 1s 127us/step - loss: 0.3418 - acc: 0.8625\n",
      "Epoch 70/100\n",
      "8000/8000 [==============================] - 1s 127us/step - loss: 0.3419 - acc: 0.8626\n",
      "Epoch 71/100\n",
      "8000/8000 [==============================] - 1s 123us/step - loss: 0.3408 - acc: 0.8621\n",
      "Epoch 72/100\n",
      "8000/8000 [==============================] - 1s 130us/step - loss: 0.3411 - acc: 0.8635\n",
      "Epoch 73/100\n",
      "8000/8000 [==============================] - 1s 126us/step - loss: 0.3412 - acc: 0.8615\n",
      "Epoch 74/100\n",
      "8000/8000 [==============================] - 1s 123us/step - loss: 0.3403 - acc: 0.8614\n",
      "Epoch 75/100\n",
      "8000/8000 [==============================] - 1s 127us/step - loss: 0.3399 - acc: 0.8632\n",
      "Epoch 76/100\n",
      "8000/8000 [==============================] - 1s 126us/step - loss: 0.3405 - acc: 0.8627\n",
      "Epoch 77/100\n",
      "8000/8000 [==============================] - 1s 125us/step - loss: 0.3402 - acc: 0.8614\n",
      "Epoch 78/100\n",
      "8000/8000 [==============================] - 1s 124us/step - loss: 0.3399 - acc: 0.8614\n",
      "Epoch 79/100\n",
      "8000/8000 [==============================] - 1s 128us/step - loss: 0.3395 - acc: 0.8619\n",
      "Epoch 80/100\n",
      "8000/8000 [==============================] - 1s 130us/step - loss: 0.3400 - acc: 0.8621\n",
      "Epoch 81/100\n",
      "8000/8000 [==============================] - 1s 125us/step - loss: 0.3394 - acc: 0.8629\n",
      "Epoch 82/100\n"
     ]
    },
    {
     "name": "stdout",
     "output_type": "stream",
     "text": [
      "8000/8000 [==============================] - 1s 115us/step - loss: 0.3392 - acc: 0.8625\n",
      "Epoch 83/100\n",
      "8000/8000 [==============================] - 1s 118us/step - loss: 0.3393 - acc: 0.8632\n",
      "Epoch 84/100\n",
      "8000/8000 [==============================] - 1s 117us/step - loss: 0.3394 - acc: 0.8631\n",
      "Epoch 85/100\n",
      "8000/8000 [==============================] - 1s 117us/step - loss: 0.3385 - acc: 0.8616\n",
      "Epoch 86/100\n",
      "8000/8000 [==============================] - 1s 121us/step - loss: 0.3391 - acc: 0.8619\n",
      "Epoch 87/100\n",
      "8000/8000 [==============================] - 1s 135us/step - loss: 0.3385 - acc: 0.8641\n",
      "Epoch 88/100\n",
      "8000/8000 [==============================] - 1s 114us/step - loss: 0.3387 - acc: 0.8611\n",
      "Epoch 89/100\n",
      "8000/8000 [==============================] - 1s 120us/step - loss: 0.3391 - acc: 0.8621\n",
      "Epoch 90/100\n",
      "8000/8000 [==============================] - 1s 118us/step - loss: 0.3383 - acc: 0.8637\n",
      "Epoch 91/100\n",
      "8000/8000 [==============================] - 1s 113us/step - loss: 0.3387 - acc: 0.8625\n",
      "Epoch 92/100\n",
      "8000/8000 [==============================] - 1s 114us/step - loss: 0.3379 - acc: 0.8620\n",
      "Epoch 93/100\n",
      "8000/8000 [==============================] - 1s 125us/step - loss: 0.3381 - acc: 0.8614\n",
      "Epoch 94/100\n",
      "8000/8000 [==============================] - 1s 125us/step - loss: 0.3377 - acc: 0.8632\n",
      "Epoch 95/100\n",
      "8000/8000 [==============================] - 1s 120us/step - loss: 0.3380 - acc: 0.8632\n",
      "Epoch 96/100\n",
      "8000/8000 [==============================] - 1s 104us/step - loss: 0.3380 - acc: 0.8617\n",
      "Epoch 97/100\n",
      "8000/8000 [==============================] - 1s 104us/step - loss: 0.3379 - acc: 0.8635\n",
      "Epoch 98/100\n",
      "8000/8000 [==============================] - 1s 104us/step - loss: 0.3380 - acc: 0.8614\n",
      "Epoch 99/100\n",
      "8000/8000 [==============================] - 1s 109us/step - loss: 0.3378 - acc: 0.8636\n",
      "Epoch 100/100\n",
      "8000/8000 [==============================] - 1s 111us/step - loss: 0.3378 - acc: 0.8630\n"
     ]
    },
    {
     "data": {
      "text/plain": [
       "<keras.callbacks.History at 0x7f3fcd5b7e48>"
      ]
     },
     "execution_count": 47,
     "metadata": {},
     "output_type": "execute_result"
    }
   ],
   "source": [
    "# Fitting our model \n",
    "classifier.fit(X_train, y_train, batch_size = 10, nb_epoch = 100)"
   ]
  },
  {
   "cell_type": "code",
   "execution_count": 52,
   "metadata": {},
   "outputs": [
    {
     "data": {
      "text/plain": [
       "array([[False],\n",
       "       [False],\n",
       "       [False],\n",
       "       ...,\n",
       "       [False],\n",
       "       [False],\n",
       "       [False]])"
      ]
     },
     "execution_count": 52,
     "metadata": {},
     "output_type": "execute_result"
    }
   ],
   "source": [
    "y_pred = classifier.predict(X_test)\n",
    "y_pred = (y_pred > 0.5)\n",
    "#converting into a binary matrix of those who can leave the bank"
   ]
  },
  {
   "cell_type": "code",
   "execution_count": 54,
   "metadata": {},
   "outputs": [
    {
     "data": {
      "text/plain": [
       "array([[1531,   60],\n",
       "       [ 205,  204]])"
      ]
     },
     "execution_count": 54,
     "metadata": {},
     "output_type": "execute_result"
    }
   ],
   "source": [
    "# Creating the Confusion Matrix\n",
    "from sklearn.metrics import confusion_matrix\n",
    "cm = confusion_matrix(y_test, y_pred)\n",
    "cm"
   ]
  },
  {
   "cell_type": "code",
   "execution_count": 55,
   "metadata": {},
   "outputs": [
    {
     "data": {
      "text/plain": [
       "0.8675"
      ]
     },
     "execution_count": 55,
     "metadata": {},
     "output_type": "execute_result"
    }
   ],
   "source": [
    "accuracy = (1531 + 204)/(1531 + 204 + 60 + 205)\n",
    "accuracy"
   ]
  }
 ],
 "metadata": {
  "kernelspec": {
   "display_name": "Python 3",
   "language": "python",
   "name": "python3"
  },
  "language_info": {
   "codemirror_mode": {
    "name": "ipython",
    "version": 3
   },
   "file_extension": ".py",
   "mimetype": "text/x-python",
   "name": "python",
   "nbconvert_exporter": "python",
   "pygments_lexer": "ipython3",
   "version": "3.6.7"
  }
 },
 "nbformat": 4,
 "nbformat_minor": 2
}
